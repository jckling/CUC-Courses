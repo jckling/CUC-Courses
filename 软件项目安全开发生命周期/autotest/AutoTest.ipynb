{
 "cells": [
  {
   "cell_type": "code",
   "execution_count": 1,
   "metadata": {},
   "outputs": [],
   "source": [
    "from uiautomator import device as d"
   ]
  },
  {
   "cell_type": "code",
   "execution_count": 2,
   "metadata": {},
   "outputs": [
    {
     "data": {
      "text/plain": [
       "{'currentPackageName': 'com.mumu.launcher',\n",
       " 'displayHeight': 540,\n",
       " 'displayRotation': 0,\n",
       " 'displaySizeDpX': 853,\n",
       " 'displaySizeDpY': 480,\n",
       " 'displayWidth': 960,\n",
       " 'productName': 'cancro',\n",
       " 'screenOn': True,\n",
       " 'sdkInt': 23,\n",
       " 'naturalOrientation': True}"
      ]
     },
     "execution_count": 2,
     "metadata": {},
     "output_type": "execute_result"
    }
   ],
   "source": [
    "# 模拟器\n",
    "d.info"
   ]
  },
  {
   "cell_type": "code",
   "execution_count": 3,
   "metadata": {},
   "outputs": [
    {
     "data": {
      "text/plain": [
       "True"
      ]
     },
     "execution_count": 3,
     "metadata": {},
     "output_type": "execute_result"
    }
   ],
   "source": [
    "# 打开音游\n",
    "d.screen.on()\n",
    "d(text=\"Love Live!\").click()"
   ]
  },
  {
   "cell_type": "code",
   "execution_count": 4,
   "metadata": {},
   "outputs": [
    {
     "data": {
      "text/plain": [
       "'test.png'"
      ]
     },
     "execution_count": 4,
     "metadata": {},
     "output_type": "execute_result"
    }
   ],
   "source": [
    "# 截图测试\n",
    "d.screenshot(\"test.png\")"
   ]
  },
  {
   "cell_type": "code",
   "execution_count": 5,
   "metadata": {},
   "outputs": [],
   "source": [
    "from PIL import ImageGrab\n",
    "import numpy as np\n",
    "import cv2\n",
    "from sklearn.neighbors import KDTree\n",
    "import pyautogui"
   ]
  },
  {
   "cell_type": "code",
   "execution_count": 6,
   "metadata": {},
   "outputs": [],
   "source": [
    "# 截图\n",
    "im = ImageGrab.grab()\n",
    "im.save('C:/Users/linki/Desktop/'+'test.jpg','JPEG')"
   ]
  },
  {
   "cell_type": "code",
   "execution_count": 7,
   "metadata": {},
   "outputs": [],
   "source": [
    "# 循环抓屏测试\n",
    "while True:\n",
    "    test = ImageGrab.grab(bbox=(320, 150, 1280, 720))\n",
    "    cv2.imshow('window', cv2.cvtColor(np.array(test), cv2.COLOR_BGR2RGB))\n",
    "    if cv2.waitKey(25) & 0xFF == ord('q'):\n",
    "        cv2.destroyAllWindows()\n",
    "        break"
   ]
  },
  {
   "cell_type": "code",
   "execution_count": 8,
   "metadata": {},
   "outputs": [],
   "source": [
    "# 边缘检测\n",
    "def border(img):\n",
    "    gray_img = cv2.cvtColor(img, cv2.COLOR_BGR2GRAY)\n",
    "    border_img = cv2.Canny(gray_img, threshold1=200, threshold2=300)\n",
    "    return border_img"
   ]
  },
  {
   "cell_type": "code",
   "execution_count": 10,
   "metadata": {},
   "outputs": [],
   "source": [
    "# 9个中心点\n",
    "centers = [\n",
    "    [122, 134],\n",
    "    [148, 264],\n",
    "    [220, 372],\n",
    "    [330, 446],\n",
    "    [460, 472],\n",
    "    [590, 446],\n",
    "    [698, 372],\n",
    "    [770, 264],\n",
    "    [796, 136],\n",
    "]\n",
    "\n",
    "# 求最近的点\n",
    "import scipy\n",
    "X = scipy.array(centers)\n",
    "\n",
    "def hit(circles):\n",
    "    bt = dict.fromkeys([0,1,2,3,4,5,6,7,8], [])\n",
    "    for i in circles[0,:]:\n",
    "        n = scipy.argmin([scipy.inner(i[0]-x,i[1]-x) for x in X])\n",
    "        bt[n].append(i)\n",
    "    for k,l in bt.items():\n",
    "        if len(l) > 1:\n",
    "            d.click(centers[k][0], centers[k][1])"
   ]
  },
  {
   "cell_type": "code",
   "execution_count": 11,
   "metadata": {},
   "outputs": [
    {
     "name": "stdout",
     "output_type": "stream",
     "text": [
      "[[4]]\n",
      "[[12.]]\n"
     ]
    }
   ],
   "source": [
    "# K-D 树测试\n",
    "tree = KDTree(X, leaf_size=1)              \n",
    "dist, ind = tree.query([[460, 460]])                \n",
    "print(ind)\n",
    "print(dist)"
   ]
  },
  {
   "cell_type": "code",
   "execution_count": 12,
   "metadata": {},
   "outputs": [],
   "source": [
    "# K-D 树\n",
    "tree = KDTree(X, leaf_size=1)     \n",
    "keyboards = ['w', 'e', 'r', 't', 'y', 'u', 'i', 'o', 'p']\n",
    "\n",
    "def kd_hit(circles):\n",
    "#     bt = dict.fromkeys([0,1,2,3,4,5,6,7,8], [])\n",
    "    for i in circles[0,:]:\n",
    "        dist, ind = tree.query([[i[0], i[1]]])\n",
    "        n = ind[0][0]\n",
    "        pyautogui.press(keyboards[n])\n",
    "        print(keyboards[n])"
   ]
  },
  {
   "cell_type": "code",
   "execution_count": 13,
   "metadata": {},
   "outputs": [],
   "source": [
    "# 点击测试\n",
    "while True:\n",
    "    img = np.array(ImageGrab.grab(bbox=(20, 120, 960, 660)))\n",
    "    img = cv2.cvtColor(img,cv2.COLOR_BGR2GRAY)\n",
    "    cimg = cv2.cvtColor(img,cv2.COLOR_GRAY2BGR)\n",
    "\n",
    "    circles = cv2.HoughCircles(img,cv2.HOUGH_GRADIENT,1,10,\n",
    "                                param1=50,param2=30,minRadius=50,maxRadius=53)\n",
    "    \n",
    "    if np.all(circles == None):\n",
    "        pass\n",
    "    elif np.all(circles >= 0):\n",
    "        circles = np.uint16(np.around(circles))\n",
    "#         for i in circles[0,:]:\n",
    "#             # draw the outer circle\n",
    "#             cv2.circle(cimg,(i[0],i[1]),i[2],(0,255,0),2)\n",
    "#             # draw the center of the circle\n",
    "#             cv2.circle(cimg,(i[0],i[1]),2,(0,0,255),3)\n",
    "        if len(circles[0,:]) > 9:\n",
    "#             print(circles)\n",
    "            hit(circles)\n",
    "    \n",
    "    cv2.imshow('detected circles',cimg)\n",
    "    if cv2.waitKey(25) & 0xFF == ord('q'):\n",
    "        cv2.destroyAllWindows()\n",
    "        break"
   ]
  },
  {
   "cell_type": "code",
   "execution_count": null,
   "metadata": {},
   "outputs": [],
   "source": []
  }
 ],
 "metadata": {
  "kernelspec": {
   "display_name": "Python 3",
   "language": "python",
   "name": "python3"
  },
  "language_info": {
   "codemirror_mode": {
    "name": "ipython",
    "version": 3
   },
   "file_extension": ".py",
   "mimetype": "text/x-python",
   "name": "python",
   "nbconvert_exporter": "python",
   "pygments_lexer": "ipython3",
   "version": "3.7.1"
  }
 },
 "nbformat": 4,
 "nbformat_minor": 2
}
